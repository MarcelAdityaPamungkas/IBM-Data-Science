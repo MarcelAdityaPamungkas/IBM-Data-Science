{
  "nbformat": 4,
  "nbformat_minor": 0,
  "metadata": {
    "colab": {
      "provenance": []
    },
    "kernelspec": {
      "name": "python3",
      "display_name": "Python 3"
    },
    "language_info": {
      "name": "python"
    }
  },
  "cells": [
    {
      "cell_type": "markdown",
      "source": [
        "# Data Science Tools"
      ],
      "metadata": {
        "id": "w462KZXMOrlZ"
      }
    },
    {
      "cell_type": "markdown",
      "source": [
        "In this project, we will discuss some data science tools such as the languages and the libraries."
      ],
      "metadata": {
        "id": "KZeiNiCGO2DC"
      }
    },
    {
      "cell_type": "markdown",
      "source": [
        "Some of the popular languages that Data Scientists use are:\n",
        "1. Python\n",
        "2. R\n",
        "3. SQL"
      ],
      "metadata": {
        "id": "zWP9SJ6AO9Lz"
      }
    },
    {
      "cell_type": "markdown",
      "source": [
        "Some of the commonly used libraries used by Data Scientists include:\n",
        "1. Pandas  \n",
        "2. NumPy  \n",
        "3. Matplotlib  \n",
        "4. Scikit-learn  \n",
        "5. TensorFlow"
      ],
      "metadata": {
        "id": "z3NYTBjqPUka"
      }
    },
    {
      "cell_type": "markdown",
      "source": [
        "In this notebook, we will:\n",
        "* Demonstrate familiarity with data science tools (languages, libraries, environments).\n",
        "* Show basic arithmetic operations in code.\n",
        "* Perform unit conversion."
      ],
      "metadata": {
        "id": "sPJXz7vrQ028"
      }
    },
    {
      "cell_type": "markdown",
      "source": [
        "Below is the table of Data Science tools\n",
        "\n",
        "| Tool          | Category               |\n",
        "|---------------|------------------------|\n",
        "| Jupyter Notebook | Development Environment |\n",
        "| RStudio       | Development Environment |\n",
        "| VS Code       | Development Environment |\n",
        "| Pandas        | Data Manipulation      |\n",
        "| NumPy         | Data Manipulation      |\n",
        "| Matplotlib    | Visualization          |\n",
        "| Seaborn       | Visualization          |\n",
        "| Scikit-learn  | Machine Learning       |\n",
        "| TensorFlow    | Machine Learning       |\n",
        "| PyTorch       | Machine Learning       |"
      ],
      "metadata": {
        "id": "SrHkZ_bKQ7vL"
      }
    },
    {
      "cell_type": "markdown",
      "source": [
        "### Arithmetic Expressions\n",
        "\n",
        "Arithmetic expressions are fundamental in programming and data science for performing calculations. They involve combining numbers and operators to produce a numerical result. Common arithmetic operators include addition (+), subtraction (-), multiplication (*), and division (/).\n",
        "\n",
        "Examples:\n",
        "- 5 + 3\n",
        "- 10 - 2\n",
        "- 4 * 6\n",
        "- 20 / 5"
      ],
      "metadata": {
        "id": "PwR0xS3pRHcC"
      }
    },
    {
      "cell_type": "code",
      "metadata": {
        "colab": {
          "base_uri": "https://localhost:8080/"
        },
        "id": "1c4eead8",
        "outputId": "138507bc-7350-4ac5-ad0b-01c4fac3688e"
      },
      "source": [
        "# This is a simple arithmetic expression to multiply then add integers\n",
        "print((3*4)+5)"
      ],
      "execution_count": null,
      "outputs": [
        {
          "output_type": "stream",
          "name": "stdout",
          "text": [
            "17\n"
          ]
        }
      ]
    },
    {
      "cell_type": "code",
      "metadata": {
        "colab": {
          "base_uri": "https://localhost:8080/"
        },
        "id": "2899965b",
        "outputId": "5491d379-6ba2-42f6-abc9-8e7b5d73834d"
      },
      "source": [
        "# This code block converts minutes to hours\n",
        "\n",
        "# Define the number of minutes\n",
        "minutes = 200\n",
        "\n",
        "# Convert minutes to hours\n",
        "hours = minutes / 60\n",
        "\n",
        "# Print the result\n",
        "print(f\"{minutes} minutes is equal to {hours} hours.\")"
      ],
      "execution_count": null,
      "outputs": [
        {
          "output_type": "stream",
          "name": "stdout",
          "text": [
            "200 minutes is equal to 3.3333333333333335 hours.\n"
          ]
        }
      ]
    },
    {
      "cell_type": "markdown",
      "source": [
        "## Author\n",
        "Marcel Aditya Pamungkas"
      ],
      "metadata": {
        "id": "GVeDC3FDRTGV"
      }
    }
  ]
}